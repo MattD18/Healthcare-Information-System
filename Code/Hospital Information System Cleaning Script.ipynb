{
 "cells": [
  {
   "cell_type": "code",
   "execution_count": 1,
   "metadata": {
    "collapsed": true
   },
   "outputs": [],
   "source": [
    "using DataFrames"
   ]
  },
  {
   "cell_type": "code",
   "execution_count": 2,
   "metadata": {
    "collapsed": false
   },
   "outputs": [
    {
     "data": {
      "text/plain": [
       "one_hot_encode (generic function with 1 method)"
      ]
     },
     "execution_count": 2,
     "metadata": {},
     "output_type": "execute_result"
    }
   ],
   "source": [
    "#Cleaning helper functions\n",
    "\n",
    "#Pre Condition: missing values have been removed since all entries will become column names \n",
    "function one_hot_encode(data::DataFrame, column_name::Symbol)\n",
    "    n = size(data,1) #length of columns \n",
    "    binary_data = DataFrame() #new dataframe to store cleaned data\n",
    "    old_row = data[column_name]\n",
    "    #creates new columns out of entries of old column\n",
    "    for new_col in unique(data[column_name])\n",
    "        binary_data[Symbol(new_col)] = -1*ones(n)\n",
    "    end\n",
    "    #fills in binary values {1,-1} for each row\n",
    "    for i in 1:n\n",
    "        binary_data[i,Symbol(old_row[i])] = 1.0\n",
    "    end\n",
    "    return binary_data\n",
    "end \n",
    "\n",
    "#Pre Condition: data is heart attack data from SPARCS dataset\n",
    "function remove_missing_data(data::DataFrame)\n",
    "    cdata = copy(data)\n",
    "    #Health Service Area \n",
    "    cdata = cdata[cdata[:Health_Service_Area] .!= \"\",:]\n",
    "    #Length of Stay\n",
    "    cdata = cdata[cdata[:Length_of_Stay] .!= \"120 +\",:]\n",
    "    cdata[:Length_of_Stay] = float(cdata[:Length_of_Stay])\n",
    "    #Payment_Typology\n",
    "    cdata = cdata[cdata[:Payment_Typology_1] .!= \"Miscellaneous/Other\",:]\n",
    "    cdata = cdata[cdata[:Payment_Typology_1] .!= \"Unknown\",:]\n",
    "    #Patient_Dispostion \n",
    "    cdata = cdata[cdata[:Patient_Disposition] .!= \"Another Type Not Listed\",:]\n",
    "    #Type of Admission\n",
    "    cdata = cdata[cdata[:Type_of_Admission] .!= \"Not Available\",:]\n",
    "    #Race\n",
    "    cdata = cdata[cdata[:Race] .!= \"Unknown\",:]\n",
    "    #Total Charges\n",
    "    n = size(cdata,1)\n",
    "    for i in 1:n\n",
    "        if cdata[:Total_Charges][i][2:end] == \"\" #impute better\n",
    "            val = \"0\"\n",
    "        else \n",
    "            val = cdata[:Total_Charges][i][2:end]\n",
    "        end\n",
    "            cdata[:Total_Charges][i] = val\n",
    "    end\n",
    "    cdata[:Total_Charges] = float(cdata[:Total_Charges])\n",
    "    return cdata\n",
    "end\n",
    "\n"
   ]
  },
  {
   "cell_type": "code",
   "execution_count": 4,
   "metadata": {
    "collapsed": false
   },
   "outputs": [
    {
     "data": {
      "text/plain": [
       "clean (generic function with 1 method)"
      ]
     },
     "execution_count": 4,
     "metadata": {},
     "output_type": "execute_result"
    }
   ],
   "source": [
    "#Pre_Condition: data is heart_attack data from SPARCS dataset\n",
    "function clean(data::DataFrame)\n",
    "    temp = remove_missing_data(data)\n",
    "    clean_data = DataFrame()\n",
    "    categorical_col = [:Health_Service_Area,:Age_Group,:Hospital_County,\n",
    "                    :Patient_Disposition,:Gender,:Race,\n",
    "                    :Type_of_Admission,:Payment_Typology_1]\n",
    "    for col in categorical_col\n",
    "        clean_data = hcat(clean_data,one_hot_encode(temp,col))\n",
    "    end\n",
    "    delete!(clean_data,:F)\n",
    "    clean_data[:Length_of_Stay] = temp[:Length_of_Stay]\n",
    "    clean_data[:Total_Charges] = temp[:Total_Charges]\n",
    "    clean_data[:APR_Severity_of_Illness_Code] = temp[:APR_Severity_of_Illness_Code]\n",
    "    clean_data[:offset] = ones(size(clean_data,1))\n",
    "    return clean_data\n",
    "end"
   ]
  },
  {
   "cell_type": "markdown",
   "metadata": {},
   "source": [
    "Hip Replacement Data Cleaning"
   ]
  },
  {
   "cell_type": "code",
   "execution_count": 5,
   "metadata": {
    "collapsed": true
   },
   "outputs": [],
   "source": [
    "HR = readtable(\"HR_raw.csv\")\n",
    "HR = clean(HR)\n",
    "delete!(HR, :U)\n",
    "HR = HR[HR[:Total_Charges] .< 250000,:]\n",
    "writetable(\"HR_clean.csv\", HR)"
   ]
  },
  {
   "cell_type": "markdown",
   "metadata": {
    "collapsed": false
   },
   "source": [
    "Depression Data Cleaning"
   ]
  },
  {
   "cell_type": "code",
   "execution_count": 24,
   "metadata": {
    "collapsed": false
   },
   "outputs": [],
   "source": [
    "depression = readtable(\"depression_raw.csv\")\n",
    "depression = clean(depression)\n",
    "writetable(\"depression_clean.csv\", depression)"
   ]
  },
  {
   "cell_type": "markdown",
   "metadata": {},
   "source": [
    "Heart Attack Data Clening"
   ]
  },
  {
   "cell_type": "code",
   "execution_count": 24,
   "metadata": {
    "collapsed": false
   },
   "outputs": [
    {
     "data": {
      "text/plain": [
       "5-element Array{String,1}:\n",
       " \"Another Type Not Listed\"              \n",
       " \"Court/Law Enforcement\"                \n",
       " \"Facility w/ Custodial/Supportive Care\"\n",
       " \"Cancer Center or Children's Hospital\" \n",
       " \"Psychiatric Hospital or Unit of Hosp\" "
      ]
     },
     "execution_count": 24,
     "metadata": {},
     "output_type": "execute_result"
    }
   ],
   "source": [
    "heart_attack = readtable(\"heart_attack_raw.csv\")\n",
    "\n",
    "#create and assign simplified categories \n",
    "continued_care = [\"Short-term Hospital\",\"Skilled Nursing Home\", \n",
    "    \"Home w/ Home Health Services\", \"Left Against Medical Advice\", \n",
    "    \"Federal Health Care Facility\", \"Inpatient Rehabilitation Facility\"  ]                \n",
    "hospice = [\"Hospice - Home\",\"Hospice - Medical Facility\"]             \n",
    "other = [\"Another Type Not Listed\", \"Court/Law Enforcement\", \n",
    "    \"Facility w/ Custodial/Supportive Care\",  \"Cancer Center or Children's Hospital\" , \n",
    "    \"Psychiatric Hospital or Unit of Hosp\"]\n",
    "\n",
    "for i in 1:length(heart_attack[:Patient_Disposition])\n",
    "    if heart_attack[i,:Patient_Disposition] in continued_care\n",
    "        heart_attack[i,:Patient_Disposition] = \"Continued_Care\"\n",
    "    end\n",
    "    if heart_attack[i,:Patient_Disposition] in hospice\n",
    "        heart_attack[i,:Patient_Disposition] = \"Hospice\"\n",
    "    end \n",
    "    if heart_attack[i,:Patient_Disposition] in other\n",
    "        heart_attack[i,:Patient_Disposition] = \"Other\"\n",
    "    end\n",
    "end\n",
    "\n",
    "#clean data\n",
    "heart_attack = clean(heart_attack)\n",
    "n = size(heart_attack,1)\n",
    "outcome = Array(Integer,n)\n",
    "for i in 1:n\n",
    "    if heart_attack[i,:Continued_Care] == 1.0\n",
    "        outcome[i] = 1\n",
    "    end\n",
    "    if heart_attack[i,:Expired] == 1.0\n",
    "        outcome[i] = 2\n",
    "    end\n",
    "    if heart_attack[i,Symbol(\"Home or Self Care\")] == 1.0\n",
    "        outcome[i] = 3\n",
    "    end\n",
    "    if heart_attack[i,:Hospice] == 1.0\n",
    "        outcome[i] = 4\n",
    "    end\n",
    "    if heart_attack[i,:Other] == 1.0\n",
    "        outcome[i] = 5\n",
    "    end\n",
    "end\n",
    "        \n",
    "heart_attack[:outcome] = outcome\n",
    "delete!(heart_attack,:Continued_Care)\n",
    "delete!(heart_attack,:Expired)\n",
    "delete!(heart_attack,Symbol(\"Home or Self Care\"))\n",
    "delete!(heart_attack,:Hospice)\n",
    "delete!(heart_attack,:Other)\n",
    "\n",
    "\n",
    "writetable(\"multi_heart_attack_clean.csv\", heart_attack)"
   ]
  }
 ],
 "metadata": {
  "kernelspec": {
   "display_name": "Julia 0.5.0",
   "language": "julia",
   "name": "julia-0.5"
  },
  "language_info": {
   "file_extension": ".jl",
   "mimetype": "application/julia",
   "name": "julia",
   "version": "0.5.0"
  }
 },
 "nbformat": 4,
 "nbformat_minor": 1
}
