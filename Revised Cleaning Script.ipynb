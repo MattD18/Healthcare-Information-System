{
 "cells": [
  {
   "cell_type": "code",
   "execution_count": 1,
   "metadata": {
    "collapsed": true
   },
   "outputs": [],
   "source": [
    "using DataFrames"
   ]
  },
  {
   "cell_type": "code",
   "execution_count": 3,
   "metadata": {
    "collapsed": false
   },
   "outputs": [
    {
     "data": {
      "text/plain": [
       "one_hot_encode (generic function with 1 method)"
      ]
     },
     "execution_count": 3,
     "metadata": {},
     "output_type": "execute_result"
    }
   ],
   "source": [
    "#Pre Condition: missing values have been removed since all entries will become column names \n",
    "function one_hot_encode(data::DataFrame, column_name::Symbol)\n",
    "    n = size(data,1) #length of columns \n",
    "    binary_data = DataFrame() #new dataframe to store cleaned data\n",
    "    old_row = data[column_name]\n",
    "    #creates new columns out of entries of old column\n",
    "    for new_col in unique(data[column_name])\n",
    "        binary_data[Symbol(new_col)] = -1*ones(n)\n",
    "    end\n",
    "    #fills in binary values {1,-1} for each row\n",
    "    for i in 1:n\n",
    "        binary_data[i,Symbol(old_row[i])] = 1.0\n",
    "    end\n",
    "    return binary_data\n",
    "end \n",
    "\n",
    "#clean = one_hot_encode(data,:Health_Service_Area)"
   ]
  },
  {
   "cell_type": "code",
   "execution_count": 4,
   "metadata": {
    "collapsed": false
   },
   "outputs": [
    {
     "data": {
      "text/plain": [
       "remove_missing_data (generic function with 1 method)"
      ]
     },
     "execution_count": 4,
     "metadata": {},
     "output_type": "execute_result"
    }
   ],
   "source": [
    "#Pre Condition: data is heart attack data from SPARCS dataset\n",
    "function remove_missing_data(data::DataFrame)\n",
    "    cdata = copy(data)\n",
    "    #Length of Stay\n",
    "    cdata = cdata[cdata[:Length_of_Stay] .!= \"120 +\",:]\n",
    "    cdata[:Length_of_Stay] = float(cdata[:Length_of_Stay])\n",
    "    #Payment_Typology\n",
    "    cdata = cdata[cdata[:Payment_Typology_1] .!= \"Miscellaneous/Other\",:]\n",
    "    cdata = cdata[cdata[:Payment_Typology_1] .!= \"Unknown\",:]\n",
    "    #Patient_Dispostion \n",
    "    cdata = cdata[cdata[:Patient_Disposition] .!= \"Another Type Not Listed\",:]\n",
    "    #Type of Admission\n",
    "    cdata = cdata[cdata[:Type_of_Admission] .!= \"Not Available\",:]\n",
    "    #Race\n",
    "    cdata = cdata[cdata[:Race] .!= \"Unknown\",:]\n",
    "    #Total Charges\n",
    "    n = size(cdata,1)\n",
    "    for i in 1:n\n",
    "        if cdata[:Total_Charges][i][2:end] == \"\" #impute better\n",
    "            val = \"0\"\n",
    "        else \n",
    "            val = cdata[:Total_Charges][i][2:end]\n",
    "        end\n",
    "            cdata[:Total_Charges][i] = val\n",
    "    end\n",
    "    cdata[:Total_Charges] = float(cdata[:Total_Charges])\n",
    "    return cdata\n",
    "end"
   ]
  },
  {
   "cell_type": "code",
   "execution_count": 15,
   "metadata": {
    "collapsed": false
   },
   "outputs": [
    {
     "name": "stderr",
     "output_type": "stream",
     "text": [
      "WARNING: Method definition clean(DataFrames.DataFrame) in module Main at In[13]:3 overwritten at In[15]:3.\n"
     ]
    },
    {
     "data": {
      "text/plain": [
       "clean (generic function with 1 method)"
      ]
     },
     "execution_count": 15,
     "metadata": {},
     "output_type": "execute_result"
    }
   ],
   "source": [
    "#Pre_Condition: data is heart_attack data from SPARCS dataset\n",
    "function clean(data::DataFrame)\n",
    "    temp = remove_missing_data(data)\n",
    "    clean_data = DataFrame()\n",
    "    categorical_col = [:Health_Service_Area,:Age_Group,:Hospital_County,\n",
    "                    :Patient_Disposition,:Gender,:Race,\n",
    "                    :Type_of_Admission,:Payment_Typology_1]\n",
    "    for col in categorical_col\n",
    "        clean_data = hcat(clean_data,one_hot_encode(temp,col))\n",
    "    end\n",
    "    delete!(clean_data,:F)\n",
    "    clean_data[:Length_of_Stay] = temp[:Length_of_Stay]\n",
    "    clean_data[:Total_Charges] = temp[:Total_Charges]\n",
    "    clean_data[:APR_Severity_of_Illness_Code] = temp[:APR_Severity_of_Illness_Code]\n",
    "    clean_data[:offset] = ones(size(clean_data,1))\n",
    "    return clean_data\n",
    "end"
   ]
  },
  {
   "cell_type": "code",
   "execution_count": 23,
   "metadata": {
    "collapsed": false
   },
   "outputs": [],
   "source": [
    "heart_attack = readtable(\"heart_attack_raw.csv\")\n",
    "heart_attack = clean(heart_attack)\n",
    "writetable(\"heart_attack_clean.csv\", heart_attack)"
   ]
  },
  {
   "cell_type": "code",
   "execution_count": 21,
   "metadata": {
    "collapsed": false
   },
   "outputs": [],
   "source": []
  },
  {
   "cell_type": "code",
   "execution_count": null,
   "metadata": {
    "collapsed": true
   },
   "outputs": [],
   "source": []
  }
 ],
 "metadata": {
  "kernelspec": {
   "display_name": "Julia 0.5.0",
   "language": "julia",
   "name": "julia-0.5"
  },
  "language_info": {
   "file_extension": ".jl",
   "mimetype": "application/julia",
   "name": "julia",
   "version": "0.5.0"
  }
 },
 "nbformat": 4,
 "nbformat_minor": 1
}
